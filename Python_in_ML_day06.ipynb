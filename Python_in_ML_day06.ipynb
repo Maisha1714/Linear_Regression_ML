{
  "nbformat": 4,
  "nbformat_minor": 0,
  "metadata": {
    "colab": {
      "provenance": [],
      "authorship_tag": "ABX9TyPe/t3pwEwCOG0XrVNr0Eh7",
      "include_colab_link": true
    },
    "kernelspec": {
      "name": "python3",
      "display_name": "Python 3"
    },
    "language_info": {
      "name": "python"
    }
  },
  "cells": [
    {
      "cell_type": "markdown",
      "metadata": {
        "id": "view-in-github",
        "colab_type": "text"
      },
      "source": [
        "<a href=\"https://colab.research.google.com/github/Maisha1714/Linear_Regression_ML/blob/main/Python_in_ML_day06.ipynb\" target=\"_parent\"><img src=\"https://colab.research.google.com/assets/colab-badge.svg\" alt=\"Open In Colab\"/></a>"
      ]
    },
    {
      "cell_type": "markdown",
      "source": [
        "# **Dictionary ( )**"
      ],
      "metadata": {
        "id": "QDii5NW9LBjo"
      }
    },
    {
      "cell_type": "code",
      "execution_count": null,
      "metadata": {
        "colab": {
          "base_uri": "https://localhost:8080/"
        },
        "id": "A2aHGSh8K0aG",
        "outputId": "71531127-4c9f-4dd0-e36a-8e54e81c57cb"
      },
      "outputs": [
        {
          "output_type": "execute_result",
          "data": {
            "text/plain": [
              "{'first name': 'Jannatul', 'Middle name': 'Ferdous', 'Last name': 'Maisha'}"
            ]
          },
          "metadata": {},
          "execution_count": 2
        }
      ],
      "source": [
        "introduction = {\n",
        "    'first name' : 'Jannatul',\n",
        "    'Middle name': 'Ferdous',\n",
        "    'Last name' : 'Maisha'\n",
        "    }\n",
        "introduction"
      ]
    },
    {
      "cell_type": "markdown",
      "source": [
        "# **Dict Constructor ( )**"
      ],
      "metadata": {
        "id": "iMDQt0HOLi5h"
      }
    },
    {
      "cell_type": "code",
      "source": [
        "introduction = dict({\n",
        "    'first name' : 'Jannatul',\n",
        "  'Middle name': 'Ferdous',\n",
        "    'Last name' : 'Maisha'\n",
        "    })\n",
        "introduction"
      ],
      "metadata": {
        "colab": {
          "base_uri": "https://localhost:8080/"
        },
        "id": "EUjQRQdRLwoD",
        "outputId": "8b99ef9c-a4f7-443f-ea27-0d43fc7dae6e"
      },
      "execution_count": null,
      "outputs": [
        {
          "output_type": "execute_result",
          "data": {
            "text/plain": [
              "{'first name': 'Jannatul', 'Middle name': 'Ferdous', 'Last name': 'Maisha'}"
            ]
          },
          "metadata": {},
          "execution_count": 3
        }
      ]
    },
    {
      "cell_type": "code",
      "source": [
        "introduction = dict (\n",
        "    first_name = 'Jannatul',\n",
        "  Middle_name = 'Ferdous',\n",
        "    Last_name = 'Maisha'\n",
        "    )\n",
        "introduction"
      ],
      "metadata": {
        "colab": {
          "base_uri": "https://localhost:8080/"
        },
        "id": "BFk7d7EfMcKj",
        "outputId": "b6b6f845-0b29-4d87-8790-844ba269aa3a"
      },
      "execution_count": null,
      "outputs": [
        {
          "output_type": "execute_result",
          "data": {
            "text/plain": [
              "{'first_name': 'Jannatul', 'Middle_name': 'Ferdous', 'Last_name': 'Maisha'}"
            ]
          },
          "metadata": {},
          "execution_count": 4
        }
      ]
    },
    {
      "cell_type": "code",
      "source": [
        "introduction = {\n",
        "    'first name' : 'Jannatul',\n",
        "    'Middle name': 'Ferdous',\n",
        "    'Last name' : 'Maisha'\n",
        "    }\n",
        "introduction.update({'Middle name' : 'Fardous'})\n",
        "introduction"
      ],
      "metadata": {
        "colab": {
          "base_uri": "https://localhost:8080/"
        },
        "id": "RpYfEBmdM2Bt",
        "outputId": "fc493cc1-c970-457b-f40f-0c758a35de9f"
      },
      "execution_count": null,
      "outputs": [
        {
          "output_type": "execute_result",
          "data": {
            "text/plain": [
              "{'first name': 'Jannatul', 'Middle name': 'Fardous', 'Last name': 'Maisha'}"
            ]
          },
          "metadata": {},
          "execution_count": 5
        }
      ]
    },
    {
      "cell_type": "code",
      "source": [
        "introduction = {\n",
        "    'first name' : 'Jannatul',\n",
        "    'Middle name': 'Ferdous',\n",
        "    'Last name' : 'Maisha'\n",
        "    }\n",
        "introduction['Middle name']"
      ],
      "metadata": {
        "id": "_9gTGJUmNR52",
        "outputId": "13a97c04-a3c8-4268-e5a1-9c1a1b309392",
        "colab": {
          "base_uri": "https://localhost:8080/",
          "height": 35
        }
      },
      "execution_count": null,
      "outputs": [
        {
          "output_type": "execute_result",
          "data": {
            "text/plain": [
              "'Ferdous'"
            ],
            "application/vnd.google.colaboratory.intrinsic+json": {
              "type": "string"
            }
          },
          "metadata": {},
          "execution_count": 6
        }
      ]
    },
    {
      "cell_type": "markdown",
      "source": [
        "# **Loop in Dictionary**"
      ],
      "metadata": {
        "id": "DVIXwhoPiP93"
      }
    },
    {
      "cell_type": "code",
      "source": [
        "introduction = {\n",
        "    'first name' : 'Jannatul',\n",
        "    'Middle name': 'Ferdous',\n",
        "    'Last name' : 'Maisha'\n",
        "    }\n",
        "for x, y in introduction.items() :\n",
        "  print(x,y)"
      ],
      "metadata": {
        "colab": {
          "base_uri": "https://localhost:8080/"
        },
        "id": "083nlvzTiV45",
        "outputId": "bc69dfad-6705-4599-9ff7-9c58997dffbc"
      },
      "execution_count": null,
      "outputs": [
        {
          "output_type": "stream",
          "name": "stdout",
          "text": [
            "first name Jannatul\n",
            "Middle name Ferdous\n",
            "Last name Maisha\n"
          ]
        }
      ]
    },
    {
      "cell_type": "markdown",
      "source": [
        "# **Copy ( )**"
      ],
      "metadata": {
        "id": "W50oFqVtjPv8"
      }
    },
    {
      "cell_type": "code",
      "source": [
        "introduction = {\n",
        "    'first name' : 'Jannatul',\n",
        "    'Middle name': 'Ferdous',\n",
        "    'Last name' : 'Maisha'\n",
        "    }\n",
        "intr = introduction.copy()\n",
        "intr"
      ],
      "metadata": {
        "colab": {
          "base_uri": "https://localhost:8080/"
        },
        "id": "ILeclTIojU1p",
        "outputId": "e40ba99d-e4c7-40ef-9345-7811cef18553"
      },
      "execution_count": null,
      "outputs": [
        {
          "output_type": "execute_result",
          "data": {
            "text/plain": [
              "{'first name': 'Jannatul', 'Middle name': 'Ferdous', 'Last name': 'Maisha'}"
            ]
          },
          "metadata": {},
          "execution_count": 15
        }
      ]
    },
    {
      "cell_type": "markdown",
      "source": [
        "# **Access and delete a key-value pair**"
      ],
      "metadata": {
        "id": "P7pc3o-IRmXi"
      }
    },
    {
      "cell_type": "code",
      "source": [
        "phone_num = { 'maisha' : '0011',\n",
        "             'mahi': '001122'}\n",
        "empty_dic = { }\n",
        "phone_num['maisha']"
      ],
      "metadata": {
        "colab": {
          "base_uri": "https://localhost:8080/",
          "height": 36
        },
        "id": "71B1VTfmRBFk",
        "outputId": "4fa12c4b-38f2-4c6f-eabe-b2cc589b9808"
      },
      "execution_count": 7,
      "outputs": [
        {
          "output_type": "execute_result",
          "data": {
            "text/plain": [
              "'0011'"
            ],
            "application/vnd.google.colaboratory.intrinsic+json": {
              "type": "string"
            }
          },
          "metadata": {},
          "execution_count": 7
        }
      ]
    },
    {
      "cell_type": "code",
      "source": [
        "phone_num['jannatul'] = '00112233'\n",
        "phone_num"
      ],
      "metadata": {
        "colab": {
          "base_uri": "https://localhost:8080/"
        },
        "id": "A0VSPSYvRrB1",
        "outputId": "b768aae9-294c-409e-a2c6-3be50126ce41"
      },
      "execution_count": 8,
      "outputs": [
        {
          "output_type": "execute_result",
          "data": {
            "text/plain": [
              "{'maisha': '0011', 'mahi': '001122', 'jannatul': '00112233'}"
            ]
          },
          "metadata": {},
          "execution_count": 8
        }
      ]
    },
    {
      "cell_type": "code",
      "source": [
        "del phone_num['maisha']\n",
        "phone_num"
      ],
      "metadata": {
        "colab": {
          "base_uri": "https://localhost:8080/"
        },
        "id": "thwIG7BrSK5u",
        "outputId": "ce062c00-9806-468e-cd7e-861888a6061c"
      },
      "execution_count": 9,
      "outputs": [
        {
          "output_type": "execute_result",
          "data": {
            "text/plain": [
              "{'mahi': '001122', 'jannatul': '00112233'}"
            ]
          },
          "metadata": {},
          "execution_count": 9
        }
      ]
    },
    {
      "cell_type": "code",
      "source": [
        "config = { 'host' : 'example.org'}\n",
        "config.get('port',80)"
      ],
      "metadata": {
        "id": "TyZ52xTsVZud",
        "colab": {
          "base_uri": "https://localhost:8080/"
        },
        "outputId": "2974b42e-3cea-4843-c774-d0225a0e90d0"
      },
      "execution_count": 11,
      "outputs": [
        {
          "output_type": "execute_result",
          "data": {
            "text/plain": [
              "80"
            ]
          },
          "metadata": {},
          "execution_count": 11
        }
      ]
    }
  ]
}
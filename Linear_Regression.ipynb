{
  "nbformat": 4,
  "nbformat_minor": 0,
  "metadata": {
    "colab": {
      "provenance": [],
      "authorship_tag": "ABX9TyOI/tenRYRa8vQHMKYXhmSx",
      "include_colab_link": true
    },
    "kernelspec": {
      "name": "python3",
      "display_name": "Python 3"
    },
    "language_info": {
      "name": "python"
    }
  },
  "cells": [
    {
      "cell_type": "markdown",
      "metadata": {
        "id": "view-in-github",
        "colab_type": "text"
      },
      "source": [
        "<a href=\"https://colab.research.google.com/github/Maisha1714/Linear_Regression_ML/blob/main/Linear_Regression.ipynb\" target=\"_parent\"><img src=\"https://colab.research.google.com/assets/colab-badge.svg\" alt=\"Open In Colab\"/></a>"
      ]
    },
    {
      "cell_type": "code",
      "source": [
        "import numpy as np\n",
        "import pandas as pd\n",
        "import matplotlib.pyplot as plt"
      ],
      "metadata": {
        "id": "k3qtkq2UBPqZ"
      },
      "execution_count": 33,
      "outputs": []
    },
    {
      "cell_type": "code",
      "source": [
        "years = np.array([1980,1985,1990,1995,2000])\n",
        "populations = np.array([2.1,2.9,3.2,4.1,4.9])"
      ],
      "metadata": {
        "id": "jrO-Z_ONBa1s"
      },
      "execution_count": 34,
      "outputs": []
    },
    {
      "cell_type": "code",
      "source": [
        "print(years)"
      ],
      "metadata": {
        "colab": {
          "base_uri": "https://localhost:8080/"
        },
        "id": "XqylYYUAB_pq",
        "outputId": "5b7dfbc4-f84d-4492-f115-8fd989cfece8"
      },
      "execution_count": 35,
      "outputs": [
        {
          "output_type": "stream",
          "name": "stdout",
          "text": [
            "[1980 1985 1990 1995 2000]\n"
          ]
        }
      ]
    },
    {
      "cell_type": "code",
      "source": [
        "print(populations)"
      ],
      "metadata": {
        "colab": {
          "base_uri": "https://localhost:8080/"
        },
        "id": "rijesZWXCCJx",
        "outputId": "20609470-c356-41a5-dd60-4b4ceaa2edbc"
      },
      "execution_count": 36,
      "outputs": [
        {
          "output_type": "stream",
          "name": "stdout",
          "text": [
            "[2.1 2.9 3.2 4.1 4.9]\n"
          ]
        }
      ]
    },
    {
      "cell_type": "code",
      "source": [
        "xmean = np.mean(years)\n",
        "print(f'Mean of the years',xmean)"
      ],
      "metadata": {
        "colab": {
          "base_uri": "https://localhost:8080/"
        },
        "id": "EREG_qloCHNq",
        "outputId": "cdc961d8-77e6-4fbf-d911-00bf97fe1909"
      },
      "execution_count": 37,
      "outputs": [
        {
          "output_type": "stream",
          "name": "stdout",
          "text": [
            "Mean of the years 1990.0\n"
          ]
        }
      ]
    },
    {
      "cell_type": "code",
      "source": [
        "ymean = np.mean(populations)\n",
        "print(f'Mean of the populations',ymean)"
      ],
      "metadata": {
        "colab": {
          "base_uri": "https://localhost:8080/"
        },
        "id": "NW387mw6CTRb",
        "outputId": "fe92e80b-d9eb-4f50-d918-9c5cec380e3b"
      },
      "execution_count": 38,
      "outputs": [
        {
          "output_type": "stream",
          "name": "stdout",
          "text": [
            "Mean of the populations 3.44\n"
          ]
        }
      ]
    },
    {
      "cell_type": "code",
      "source": [
        "n = len(years)\n",
        "print(f'length of the data',n)"
      ],
      "metadata": {
        "colab": {
          "base_uri": "https://localhost:8080/"
        },
        "id": "hZCUwANlCo5q",
        "outputId": "2450c55a-4480-4748-9c18-32c3ee1f6f17"
      },
      "execution_count": 39,
      "outputs": [
        {
          "output_type": "stream",
          "name": "stdout",
          "text": [
            "length of the data 5\n"
          ]
        }
      ]
    },
    {
      "cell_type": "markdown",
      "source": [
        "# **Formula Of the Slope**"
      ],
      "metadata": {
        "id": "NPVT7UzrFnfK"
      }
    },
    {
      "cell_type": "markdown",
      "source": [
        "![slope.png](data:image/png;base64,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)"
      ],
      "metadata": {
        "id": "nGmh9XUdFSCw"
      }
    },
    {
      "cell_type": "code",
      "source": [
        "upper = n* np.sum(years*populations) - np.sum(years)* np.sum(populations)\n",
        "lower = n*np.sum(years**2) - np.sum(years)**2\n",
        "slope = upper / lower\n",
        "print(f'Value of the slope{slope : .3f}')"
      ],
      "metadata": {
        "colab": {
          "base_uri": "https://localhost:8080/"
        },
        "id": "OuAPs1gfFsh_",
        "outputId": "f987b720-6c4e-4468-ca4c-c3ce2d0fbc51"
      },
      "execution_count": 40,
      "outputs": [
        {
          "output_type": "stream",
          "name": "stdout",
          "text": [
            "Value of the slope 0.136\n"
          ]
        }
      ]
    },
    {
      "cell_type": "markdown",
      "source": [
        "# **Formula of Interception**\n",
        "\n",
        "![intercept.png](data:image/png;base64,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)"
      ],
      "metadata": {
        "id": "vDzPXVDyFs_e"
      }
    },
    {
      "cell_type": "code",
      "source": [
        "intercept = np.mean(populations) - slope*np.mean(years)\n",
        "print(f'Value of Intercept{intercept : .3f}')"
      ],
      "metadata": {
        "colab": {
          "base_uri": "https://localhost:8080/"
        },
        "id": "yLyPI4qaIvQo",
        "outputId": "ca2d587e-5725-4b95-f06b-cfb263200937"
      },
      "execution_count": 41,
      "outputs": [
        {
          "output_type": "stream",
          "name": "stdout",
          "text": [
            "Value of Intercept-267.200\n"
          ]
        }
      ]
    },
    {
      "cell_type": "code",
      "source": [
        "pred_for_year = int(input('Enter the year :'))"
      ],
      "metadata": {
        "colab": {
          "base_uri": "https://localhost:8080/"
        },
        "id": "-aRHvBilJhnJ",
        "outputId": "5b338118-1677-486e-fc5f-3947b44995fc"
      },
      "execution_count": 42,
      "outputs": [
        {
          "name": "stdout",
          "output_type": "stream",
          "text": [
            "Enter the year :2005\n"
          ]
        }
      ]
    },
    {
      "cell_type": "code",
      "source": [
        "predicted_population = slope * pred_for_year + intercept\n",
        "print(f\"Predicted population: {predicted_population:.2f}\")"
      ],
      "metadata": {
        "colab": {
          "base_uri": "https://localhost:8080/"
        },
        "id": "x1L4GPu9L4Q9",
        "outputId": "08e06f13-0d10-45b0-d5e1-6c676214373c"
      },
      "execution_count": 44,
      "outputs": [
        {
          "output_type": "stream",
          "name": "stdout",
          "text": [
            "Predicted population: 5.48\n"
          ]
        }
      ]
    },
    {
      "cell_type": "code",
      "execution_count": 45,
      "metadata": {
        "colab": {
          "base_uri": "https://localhost:8080/",
          "height": 472
        },
        "id": "72DrU8X26D6s",
        "outputId": "4cddfdfb-d175-4983-ea44-b4ac051f6e6f"
      },
      "outputs": [
        {
          "output_type": "display_data",
          "data": {
            "text/plain": [
              "<Figure size 640x480 with 1 Axes>"
            ],
            "image/png": "[encoded data removed]"
          },
          "metadata": {}
        }
      ],
      "source": [
        "plt.scatter(years, populations, color='blue', label='Actual Data')\n",
        "plt.plot(years, slope * years + intercept, color='red', label='Regression Line')\n",
        "plt.scatter(pred_for_year, predicted_population, color='green', label='Prediction for 2005')\n",
        "plt.xlabel('Year')\n",
        "plt.ylabel('Population (in billions)')\n",
        "plt.title('Linear Regression for Population Prediction')\n",
        "plt.legend()\n",
        "plt.show()\n"
      ]
    }
  ]
}